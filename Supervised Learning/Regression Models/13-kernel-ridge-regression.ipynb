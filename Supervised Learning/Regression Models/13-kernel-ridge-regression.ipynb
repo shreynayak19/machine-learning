{
 "cells": [
  {
   "cell_type": "markdown",
   "id": "8d6df3e6",
   "metadata": {},
   "source": [
    "# Kernel Ridge Regression (KRR) Tutorial with scikit-learn\n",
    "_A tutorial using the California Housing dataset_\n",
    "\n",
    "Author: Shrey Nayak\n",
    "\n",
    "---\n",
    "\n",
    "## Objectives\n",
    "- Understand the theory behind **Kernel Ridge Regression**.\n",
    "- Learn how KRR combines **Ridge Regression** and the **Kernel Trick**.\n",
    "- Implement KRR with Linear, Polynomial, and RBF kernels.\n",
    "- Compare KRR to Linear Regression.\n",
    "- Perform basic hyperparameter tuning.\n"
   ]
  },
  {
   "cell_type": "markdown",
   "id": "30bff8b4",
   "metadata": {},
   "source": [
    "## 1. Introduction to Kernel Ridge Regression\n",
    "\n",
    "**Kernel Ridge Regression (KRR)** combines:\n",
    "1. **Ridge Regression**: A linear regression model with **L2 regularization** to reduce overfitting.\n",
    "2. **Kernel Trick**: Transforms the data into a higher-dimensional feature space without explicitly computing the transformation.\n",
    "\n",
    "This allows KRR to:\n",
    "- Solve **linear** problems robustly (via Ridge Regression).\n",
    "- Solve **non-linear** problems (via kernels like RBF, Polynomial).\n",
    "\n",
    "---\n",
    "\n",
    "## 2. Mathematical Formulation\n",
    "\n",
    "Ridge Regression solves:\n",
    "$$\n",
    "\\min_w \\|y - Xw\\|^2 + \\alpha \\|w\\|^2\n",
    "$$\n",
    "\n",
    "Kernel Ridge Regression applies the **kernel trick**:\n",
    "- Replace $X$ with a **kernel matrix** $K$ where $K_{ij} = k(x_i, x_j)$.\n",
    "- Solve:\n",
    "$$\n",
    "\\hat{y} = K (K + \\alpha I)^{-1} y\n",
    "$$\n",
    "\n",
    "Here:\n",
    "- $\\alpha$: Regularization parameter.\n",
    "- $k(\\cdot, \\cdot)$: Kernel function.\n",
    "\n",
    "---\n",
    "\n",
    "## 3. Kernels in KRR\n",
    "- **Linear Kernel**: $k(x, x') = x \\cdot x'$\n",
    "- **Polynomial Kernel**: $k(x, x') = (\\gamma x \\cdot x' + r)^d$\n",
    "- **RBF Kernel**: $k(x, x') = \\exp(-\\gamma \\|x - x'\\|^2)$\n",
    "\n",
    "---\n",
    "\n",
    "## 4. Advantages\n",
    "- Handles both linear and non-linear patterns.\n",
    "- Can model complex relationships without explicit feature engineering.\n",
    "- Regularization reduces overfitting.\n",
    "\n",
    "---\n",
    "\n",
    "## 5. Limitations\n",
    "- Computationally expensive for large datasets (kernel matrix is $n \\times n$).\n",
    "- Requires careful tuning of hyperparameters (alpha, gamma, degree).\n"
   ]
  },
  {
   "cell_type": "code",
   "execution_count": 1,
   "id": "f5448683",
   "metadata": {},
   "outputs": [],
   "source": [
    "import numpy as np\n",
    "import pandas as pd\n",
    "import matplotlib.pyplot as plt\n",
    "\n",
    "from sklearn.datasets import fetch_california_housing\n",
    "from sklearn.model_selection import train_test_split, GridSearchCV\n",
    "from sklearn.kernel_ridge import KernelRidge\n",
    "from sklearn.linear_model import Ridge\n",
    "from sklearn.preprocessing import StandardScaler\n",
    "from sklearn.metrics import mean_squared_error, r2_score\n"
   ]
  },
  {
   "cell_type": "code",
   "execution_count": 2,
   "id": "b0a81a8f",
   "metadata": {},
   "outputs": [
    {
     "data": {
      "text/html": [
       "<div>\n",
       "<style scoped>\n",
       "    .dataframe tbody tr th:only-of-type {\n",
       "        vertical-align: middle;\n",
       "    }\n",
       "\n",
       "    .dataframe tbody tr th {\n",
       "        vertical-align: top;\n",
       "    }\n",
       "\n",
       "    .dataframe thead th {\n",
       "        text-align: right;\n",
       "    }\n",
       "</style>\n",
       "<table border=\"1\" class=\"dataframe\">\n",
       "  <thead>\n",
       "    <tr style=\"text-align: right;\">\n",
       "      <th></th>\n",
       "      <th>MedInc</th>\n",
       "      <th>HouseAge</th>\n",
       "      <th>AveRooms</th>\n",
       "      <th>AveBedrms</th>\n",
       "      <th>Population</th>\n",
       "      <th>AveOccup</th>\n",
       "      <th>Latitude</th>\n",
       "      <th>Longitude</th>\n",
       "      <th>MedHouseVal</th>\n",
       "    </tr>\n",
       "  </thead>\n",
       "  <tbody>\n",
       "    <tr>\n",
       "      <th>0</th>\n",
       "      <td>8.3252</td>\n",
       "      <td>41.0</td>\n",
       "      <td>6.984127</td>\n",
       "      <td>1.023810</td>\n",
       "      <td>322.0</td>\n",
       "      <td>2.555556</td>\n",
       "      <td>37.88</td>\n",
       "      <td>-122.23</td>\n",
       "      <td>4.526</td>\n",
       "    </tr>\n",
       "    <tr>\n",
       "      <th>1</th>\n",
       "      <td>8.3014</td>\n",
       "      <td>21.0</td>\n",
       "      <td>6.238137</td>\n",
       "      <td>0.971880</td>\n",
       "      <td>2401.0</td>\n",
       "      <td>2.109842</td>\n",
       "      <td>37.86</td>\n",
       "      <td>-122.22</td>\n",
       "      <td>3.585</td>\n",
       "    </tr>\n",
       "    <tr>\n",
       "      <th>2</th>\n",
       "      <td>7.2574</td>\n",
       "      <td>52.0</td>\n",
       "      <td>8.288136</td>\n",
       "      <td>1.073446</td>\n",
       "      <td>496.0</td>\n",
       "      <td>2.802260</td>\n",
       "      <td>37.85</td>\n",
       "      <td>-122.24</td>\n",
       "      <td>3.521</td>\n",
       "    </tr>\n",
       "    <tr>\n",
       "      <th>3</th>\n",
       "      <td>5.6431</td>\n",
       "      <td>52.0</td>\n",
       "      <td>5.817352</td>\n",
       "      <td>1.073059</td>\n",
       "      <td>558.0</td>\n",
       "      <td>2.547945</td>\n",
       "      <td>37.85</td>\n",
       "      <td>-122.25</td>\n",
       "      <td>3.413</td>\n",
       "    </tr>\n",
       "    <tr>\n",
       "      <th>4</th>\n",
       "      <td>3.8462</td>\n",
       "      <td>52.0</td>\n",
       "      <td>6.281853</td>\n",
       "      <td>1.081081</td>\n",
       "      <td>565.0</td>\n",
       "      <td>2.181467</td>\n",
       "      <td>37.85</td>\n",
       "      <td>-122.25</td>\n",
       "      <td>3.422</td>\n",
       "    </tr>\n",
       "  </tbody>\n",
       "</table>\n",
       "</div>"
      ],
      "text/plain": [
       "   MedInc  HouseAge  AveRooms  AveBedrms  Population  AveOccup  Latitude  \\\n",
       "0  8.3252      41.0  6.984127   1.023810       322.0  2.555556     37.88   \n",
       "1  8.3014      21.0  6.238137   0.971880      2401.0  2.109842     37.86   \n",
       "2  7.2574      52.0  8.288136   1.073446       496.0  2.802260     37.85   \n",
       "3  5.6431      52.0  5.817352   1.073059       558.0  2.547945     37.85   \n",
       "4  3.8462      52.0  6.281853   1.081081       565.0  2.181467     37.85   \n",
       "\n",
       "   Longitude  MedHouseVal  \n",
       "0    -122.23        4.526  \n",
       "1    -122.22        3.585  \n",
       "2    -122.24        3.521  \n",
       "3    -122.25        3.413  \n",
       "4    -122.25        3.422  "
      ]
     },
     "execution_count": 2,
     "metadata": {},
     "output_type": "execute_result"
    }
   ],
   "source": [
    "# Load California Housing dataset\n",
    "california = fetch_california_housing(as_frame=True)\n",
    "df = california.frame\n",
    "\n",
    "# Show first few rows\n",
    "df.head()\n"
   ]
  },
  {
   "cell_type": "code",
   "execution_count": 3,
   "id": "78230f0b",
   "metadata": {},
   "outputs": [
    {
     "name": "stdout",
     "output_type": "stream",
     "text": [
      "Dataset shape: (20640, 9)\n",
      "\n",
      "Summary statistics:\n",
      "              MedInc      HouseAge      AveRooms     AveBedrms    Population  \\\n",
      "count  20640.000000  20640.000000  20640.000000  20640.000000  20640.000000   \n",
      "mean       3.870671     28.639486      5.429000      1.096675   1425.476744   \n",
      "std        1.899822     12.585558      2.474173      0.473911   1132.462122   \n",
      "min        0.499900      1.000000      0.846154      0.333333      3.000000   \n",
      "25%        2.563400     18.000000      4.440716      1.006079    787.000000   \n",
      "50%        3.534800     29.000000      5.229129      1.048780   1166.000000   \n",
      "75%        4.743250     37.000000      6.052381      1.099526   1725.000000   \n",
      "max       15.000100     52.000000    141.909091     34.066667  35682.000000   \n",
      "\n",
      "           AveOccup      Latitude     Longitude   MedHouseVal  \n",
      "count  20640.000000  20640.000000  20640.000000  20640.000000  \n",
      "mean       3.070655     35.631861   -119.569704      2.068558  \n",
      "std       10.386050      2.135952      2.003532      1.153956  \n",
      "min        0.692308     32.540000   -124.350000      0.149990  \n",
      "25%        2.429741     33.930000   -121.800000      1.196000  \n",
      "50%        2.818116     34.260000   -118.490000      1.797000  \n",
      "75%        3.282261     37.710000   -118.010000      2.647250  \n",
      "max     1243.333333     41.950000   -114.310000      5.000010  \n",
      "\n",
      "Missing values:\n",
      " MedInc         0\n",
      "HouseAge       0\n",
      "AveRooms       0\n",
      "AveBedrms      0\n",
      "Population     0\n",
      "AveOccup       0\n",
      "Latitude       0\n",
      "Longitude      0\n",
      "MedHouseVal    0\n",
      "dtype: int64\n"
     ]
    },
    {
     "data": {
      "image/png": "[encoded data removed]",
      "text/plain": [
       "<Figure size 640x480 with 1 Axes>"
      ]
     },
     "metadata": {},
     "output_type": "display_data"
    }
   ],
   "source": [
    "print(\"Dataset shape:\", df.shape)\n",
    "print(\"\\nSummary statistics:\\n\", df.describe())\n",
    "print(\"\\nMissing values:\\n\", df.isnull().sum())\n",
    "\n",
    "# Target distribution\n",
    "plt.hist(df['MedHouseVal'], bins=50, color='skyblue', edgecolor='black')\n",
    "plt.xlabel(\"Median House Value\")\n",
    "plt.ylabel(\"Frequency\")\n",
    "plt.title(\"Target Distribution\")\n",
    "plt.show()\n"
   ]
  },
  {
   "cell_type": "code",
   "execution_count": 4,
   "id": "24078a55",
   "metadata": {},
   "outputs": [],
   "source": [
    "# Features & target\n",
    "X = df.drop(columns=['MedHouseVal'])\n",
    "y = df['MedHouseVal']\n",
    "\n",
    "# Train-test split\n",
    "X_train, X_test, y_train, y_test = train_test_split(\n",
    "    X, y, test_size=0.2, random_state=42\n",
    ")\n",
    "\n",
    "# Standardization (important for kernel methods)\n",
    "scaler = StandardScaler()\n",
    "X_train_scaled = scaler.fit_transform(X_train)\n",
    "X_test_scaled = scaler.transform(X_test)\n"
   ]
  },
  {
   "cell_type": "code",
   "execution_count": 5,
   "id": "5207d612",
   "metadata": {},
   "outputs": [
    {
     "name": "stdout",
     "output_type": "stream",
     "text": [
      "KRR Linear -> RMSE: 2.205, R²: -2.711\n"
     ]
    }
   ],
   "source": [
    "# KRR with Linear Kernel\n",
    "krr_linear = KernelRidge(kernel='linear', alpha=1.0)\n",
    "krr_linear.fit(X_train_scaled, y_train)\n",
    "y_pred_linear = krr_linear.predict(X_test_scaled)\n",
    "\n",
    "rmse_linear = np.sqrt(mean_squared_error(y_test, y_pred_linear))\n",
    "r2_linear = r2_score(y_test, y_pred_linear)\n",
    "\n",
    "print(f\"KRR Linear -> RMSE: {rmse_linear:.3f}, R²: {r2_linear:.3f}\")\n"
   ]
  },
  {
   "cell_type": "code",
   "execution_count": 6,
   "id": "e67db836",
   "metadata": {},
   "outputs": [
    {
     "name": "stdout",
     "output_type": "stream",
     "text": [
      "KRR Polynomial -> RMSE: 3.448, R²: -8.075\n"
     ]
    }
   ],
   "source": [
    "# KRR with Polynomial Kernel\n",
    "krr_poly = KernelRidge(kernel='polynomial', alpha=1.0, degree=3, gamma=0.1)\n",
    "krr_poly.fit(X_train_scaled, y_train)\n",
    "y_pred_poly = krr_poly.predict(X_test_scaled)\n",
    "\n",
    "rmse_poly = np.sqrt(mean_squared_error(y_test, y_pred_poly))\n",
    "r2_poly = r2_score(y_test, y_pred_poly)\n",
    "\n",
    "print(f\"KRR Polynomial -> RMSE: {rmse_poly:.3f}, R²: {r2_poly:.3f}\")\n"
   ]
  },
  {
   "cell_type": "code",
   "execution_count": 7,
   "id": "ff8c00ea",
   "metadata": {},
   "outputs": [
    {
     "name": "stdout",
     "output_type": "stream",
     "text": [
      "KRR RBF -> RMSE: 0.600, R²: 0.725\n"
     ]
    }
   ],
   "source": [
    "# KRR with RBF Kernel\n",
    "krr_rbf = KernelRidge(kernel='rbf', alpha=1.0, gamma=0.1)\n",
    "krr_rbf.fit(X_train_scaled, y_train)\n",
    "y_pred_rbf = krr_rbf.predict(X_test_scaled)\n",
    "\n",
    "rmse_rbf = np.sqrt(mean_squared_error(y_test, y_pred_rbf))\n",
    "r2_rbf = r2_score(y_test, y_pred_rbf)\n",
    "\n",
    "print(f\"KRR RBF -> RMSE: {rmse_rbf:.3f}, R²: {r2_rbf:.3f}\")\n"
   ]
  },
  {
   "cell_type": "code",
   "execution_count": 8,
   "id": "e920f91e",
   "metadata": {},
   "outputs": [
    {
     "data": {
      "text/html": [
       "<div>\n",
       "<style scoped>\n",
       "    .dataframe tbody tr th:only-of-type {\n",
       "        vertical-align: middle;\n",
       "    }\n",
       "\n",
       "    .dataframe tbody tr th {\n",
       "        vertical-align: top;\n",
       "    }\n",
       "\n",
       "    .dataframe thead th {\n",
       "        text-align: right;\n",
       "    }\n",
       "</style>\n",
       "<table border=\"1\" class=\"dataframe\">\n",
       "  <thead>\n",
       "    <tr style=\"text-align: right;\">\n",
       "      <th></th>\n",
       "      <th>Model</th>\n",
       "      <th>RMSE</th>\n",
       "      <th>R²</th>\n",
       "    </tr>\n",
       "  </thead>\n",
       "  <tbody>\n",
       "    <tr>\n",
       "      <th>0</th>\n",
       "      <td>Ridge</td>\n",
       "      <td>0.745557</td>\n",
       "      <td>0.575816</td>\n",
       "    </tr>\n",
       "    <tr>\n",
       "      <th>1</th>\n",
       "      <td>KRR Linear</td>\n",
       "      <td>2.205271</td>\n",
       "      <td>-2.711224</td>\n",
       "    </tr>\n",
       "    <tr>\n",
       "      <th>2</th>\n",
       "      <td>KRR Polynomial</td>\n",
       "      <td>3.448389</td>\n",
       "      <td>-8.074562</td>\n",
       "    </tr>\n",
       "    <tr>\n",
       "      <th>3</th>\n",
       "      <td>KRR RBF</td>\n",
       "      <td>0.600018</td>\n",
       "      <td>0.725261</td>\n",
       "    </tr>\n",
       "  </tbody>\n",
       "</table>\n",
       "</div>"
      ],
      "text/plain": [
       "            Model      RMSE        R²\n",
       "0           Ridge  0.745557  0.575816\n",
       "1      KRR Linear  2.205271 -2.711224\n",
       "2  KRR Polynomial  3.448389 -8.074562\n",
       "3         KRR RBF  0.600018  0.725261"
      ]
     },
     "execution_count": 8,
     "metadata": {},
     "output_type": "execute_result"
    }
   ],
   "source": [
    "# Standard Ridge Regression (baseline)\n",
    "ridge = Ridge(alpha=1.0)\n",
    "ridge.fit(X_train_scaled, y_train)\n",
    "y_pred_ridge = ridge.predict(X_test_scaled)\n",
    "\n",
    "rmse_ridge = np.sqrt(mean_squared_error(y_test, y_pred_ridge))\n",
    "r2_ridge = r2_score(y_test, y_pred_ridge)\n",
    "\n",
    "# Compare results\n",
    "results = pd.DataFrame({\n",
    "    'Model': ['Ridge', 'KRR Linear', 'KRR Polynomial', 'KRR RBF'],\n",
    "    'RMSE': [rmse_ridge, rmse_linear, rmse_poly, rmse_rbf],\n",
    "    'R²': [r2_ridge, r2_linear, r2_poly, r2_rbf]\n",
    "})\n",
    "results\n"
   ]
  },
  {
   "cell_type": "code",
   "execution_count": 9,
   "id": "0021370b",
   "metadata": {},
   "outputs": [
    {
     "name": "stdout",
     "output_type": "stream",
     "text": [
      "Best Parameters: {'alpha': 0.1, 'gamma': 0.1}\n",
      "Best CV R²: 0.7516845509241371\n"
     ]
    }
   ],
   "source": [
    "# Grid Search for best hyperparameters\n",
    "param_grid = {\n",
    "    'alpha': [0.1, 1, 10],\n",
    "    'gamma': [0.01, 0.1, 1]\n",
    "}\n",
    "\n",
    "grid_search = GridSearchCV(\n",
    "    KernelRidge(kernel='rbf'),\n",
    "    param_grid,\n",
    "    scoring='r2',\n",
    "    cv=3,\n",
    "    n_jobs=-1\n",
    ")\n",
    "grid_search.fit(X_train_scaled, y_train)\n",
    "\n",
    "print(\"Best Parameters:\", grid_search.best_params_)\n",
    "print(\"Best CV R²:\", grid_search.best_score_)\n"
   ]
  },
  {
   "cell_type": "markdown",
   "id": "b672d76c",
   "metadata": {},
   "source": [
    "## Conclusion\n",
    "\n",
    "- **Kernel Ridge Regression** combines the regularization of Ridge Regression with the power of kernels to capture complex patterns.\n",
    "- **Linear Kernel**: Similar to Ridge Regression.\n",
    "- **Polynomial Kernel**: Captures polynomial relationships but may overfit.\n",
    "- **RBF Kernel**: Very flexible, often best for non-linear patterns.\n",
    "- Hyperparameter tuning is crucial for good performance.\n",
    "\n",
    "**Advantages:**\n",
    "- Handles both linear and non-linear data.\n",
    "- Built-in regularization.\n",
    "- Flexible through kernel choice.\n",
    "\n",
    "**Limitations:**\n",
    "- Computationally expensive for large datasets.\n",
    "- Sensitive to kernel and parameter selection.\n",
    "\n",
    "**Next Steps:**\n",
    "- Test on smaller subsets for faster training.\n",
    "- Compare with SVR, Random Forest, and Gradient Boosting models.\n"
   ]
  },
  {
   "cell_type": "code",
   "execution_count": null,
   "id": "e8e732a3",
   "metadata": {},
   "outputs": [],
   "source": []
  }
 ],
 "metadata": {
  "kernelspec": {
   "display_name": "Python 3",
   "language": "python",
   "name": "python3"
  },
  "language_info": {
   "codemirror_mode": {
    "name": "ipython",
    "version": 3
   },
   "file_extension": ".py",
   "mimetype": "text/x-python",
   "name": "python",
   "nbconvert_exporter": "python",
   "pygments_lexer": "ipython3",
   "version": "3.12.9"
  }
 },
 "nbformat": 4,
 "nbformat_minor": 5
}
