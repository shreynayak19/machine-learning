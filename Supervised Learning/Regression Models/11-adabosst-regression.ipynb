{
 "cells": [
  {
   "cell_type": "markdown",
   "id": "a17e338e",
   "metadata": {},
   "source": [
    "# AdaBoost Regression with scikit-learn\n",
    "_A comprehensive tutorial using the California Housing dataset_\n",
    "\n",
    "Author: Shrey Nayak\n",
    "\n",
    "---\n",
    "\n",
    "## Objectives\n",
    "- Understand **AdaBoost Regression** theory.\n",
    "- Implement `AdaBoostRegressor` in scikit-learn.\n",
    "- Compare performance with Decision Tree and Random Forest.\n",
    "- Interpret feature importances.\n",
    "- Perform hyperparameter tuning.\n"
   ]
  },
  {
   "cell_type": "markdown",
   "id": "c1567b3b",
   "metadata": {},
   "source": [
    "## 1. Introduction to AdaBoost Regression\n",
    "\n",
    "**AdaBoost** (Adaptive Boosting) is an **ensemble learning method** that combines multiple weak learners (usually shallow decision trees) to form a strong learner.\n",
    "\n",
    "---\n",
    "\n",
    "### How AdaBoost Works (Regression version)\n",
    "1. **Initialize**: All training samples are given equal weight.\n",
    "2. **Iterative Training**:\n",
    "   - Train a weak learner (e.g., Decision Tree Regressor) on weighted data.\n",
    "   - Compute the model's error.\n",
    "   - Assign higher weights to poorly predicted samples so the next learner focuses on them.\n",
    "3. **Final Prediction**: Combine all weak learners' predictions with weighted averaging.\n",
    "\n",
    "---\n",
    "\n",
    "### Key Idea\n",
    "- Each new model focuses on **correcting the mistakes** of the previous ones.\n",
    "- Works well when base learners are simple and prone to underfitting.\n",
    "\n",
    "---\n",
    "\n",
    "### Advantages\n",
    "- Simple and effective.\n",
    "- Works well with small and medium-sized datasets.\n",
    "- Can reduce bias significantly.\n",
    "\n",
    "### Disadvantages\n",
    "- Sensitive to noisy data and outliers.\n",
    "- May overfit if the base learner is too complex.\n",
    "- Slower to train compared to a single tree.\n",
    "\n",
    "---\n",
    "\n",
    "## 2. `AdaBoostRegressor` in scikit-learn\n",
    "\n",
    "Key parameters:\n",
    "- `base_estimator`: The weak learner (default: DecisionTreeRegressor(max_depth=3)).\n",
    "- `n_estimators`: Number of weak learners.\n",
    "- `learning_rate`: Shrinks the contribution of each learner.\n",
    "- `loss`: Loss function to optimize (`linear`, `square`, or `exponential`).\n",
    "\n",
    "---\n"
   ]
  },
  {
   "cell_type": "code",
   "execution_count": 1,
   "id": "f08339aa",
   "metadata": {},
   "outputs": [],
   "source": [
    "import numpy as np\n",
    "import pandas as pd\n",
    "import matplotlib.pyplot as plt\n",
    "\n",
    "from sklearn.datasets import fetch_california_housing\n",
    "from sklearn.model_selection import train_test_split, GridSearchCV\n",
    "from sklearn.ensemble import AdaBoostRegressor, RandomForestRegressor\n",
    "from sklearn.tree import DecisionTreeRegressor\n",
    "from sklearn.preprocessing import StandardScaler\n",
    "from sklearn.metrics import mean_squared_error, r2_score\n"
   ]
  },
  {
   "cell_type": "code",
   "execution_count": 2,
   "id": "0578120e",
   "metadata": {},
   "outputs": [
    {
     "data": {
      "text/html": [
       "<div>\n",
       "<style scoped>\n",
       "    .dataframe tbody tr th:only-of-type {\n",
       "        vertical-align: middle;\n",
       "    }\n",
       "\n",
       "    .dataframe tbody tr th {\n",
       "        vertical-align: top;\n",
       "    }\n",
       "\n",
       "    .dataframe thead th {\n",
       "        text-align: right;\n",
       "    }\n",
       "</style>\n",
       "<table border=\"1\" class=\"dataframe\">\n",
       "  <thead>\n",
       "    <tr style=\"text-align: right;\">\n",
       "      <th></th>\n",
       "      <th>MedInc</th>\n",
       "      <th>HouseAge</th>\n",
       "      <th>AveRooms</th>\n",
       "      <th>AveBedrms</th>\n",
       "      <th>Population</th>\n",
       "      <th>AveOccup</th>\n",
       "      <th>Latitude</th>\n",
       "      <th>Longitude</th>\n",
       "      <th>MedHouseVal</th>\n",
       "    </tr>\n",
       "  </thead>\n",
       "  <tbody>\n",
       "    <tr>\n",
       "      <th>0</th>\n",
       "      <td>8.3252</td>\n",
       "      <td>41.0</td>\n",
       "      <td>6.984127</td>\n",
       "      <td>1.023810</td>\n",
       "      <td>322.0</td>\n",
       "      <td>2.555556</td>\n",
       "      <td>37.88</td>\n",
       "      <td>-122.23</td>\n",
       "      <td>4.526</td>\n",
       "    </tr>\n",
       "    <tr>\n",
       "      <th>1</th>\n",
       "      <td>8.3014</td>\n",
       "      <td>21.0</td>\n",
       "      <td>6.238137</td>\n",
       "      <td>0.971880</td>\n",
       "      <td>2401.0</td>\n",
       "      <td>2.109842</td>\n",
       "      <td>37.86</td>\n",
       "      <td>-122.22</td>\n",
       "      <td>3.585</td>\n",
       "    </tr>\n",
       "    <tr>\n",
       "      <th>2</th>\n",
       "      <td>7.2574</td>\n",
       "      <td>52.0</td>\n",
       "      <td>8.288136</td>\n",
       "      <td>1.073446</td>\n",
       "      <td>496.0</td>\n",
       "      <td>2.802260</td>\n",
       "      <td>37.85</td>\n",
       "      <td>-122.24</td>\n",
       "      <td>3.521</td>\n",
       "    </tr>\n",
       "    <tr>\n",
       "      <th>3</th>\n",
       "      <td>5.6431</td>\n",
       "      <td>52.0</td>\n",
       "      <td>5.817352</td>\n",
       "      <td>1.073059</td>\n",
       "      <td>558.0</td>\n",
       "      <td>2.547945</td>\n",
       "      <td>37.85</td>\n",
       "      <td>-122.25</td>\n",
       "      <td>3.413</td>\n",
       "    </tr>\n",
       "    <tr>\n",
       "      <th>4</th>\n",
       "      <td>3.8462</td>\n",
       "      <td>52.0</td>\n",
       "      <td>6.281853</td>\n",
       "      <td>1.081081</td>\n",
       "      <td>565.0</td>\n",
       "      <td>2.181467</td>\n",
       "      <td>37.85</td>\n",
       "      <td>-122.25</td>\n",
       "      <td>3.422</td>\n",
       "    </tr>\n",
       "  </tbody>\n",
       "</table>\n",
       "</div>"
      ],
      "text/plain": [
       "   MedInc  HouseAge  AveRooms  AveBedrms  Population  AveOccup  Latitude  \\\n",
       "0  8.3252      41.0  6.984127   1.023810       322.0  2.555556     37.88   \n",
       "1  8.3014      21.0  6.238137   0.971880      2401.0  2.109842     37.86   \n",
       "2  7.2574      52.0  8.288136   1.073446       496.0  2.802260     37.85   \n",
       "3  5.6431      52.0  5.817352   1.073059       558.0  2.547945     37.85   \n",
       "4  3.8462      52.0  6.281853   1.081081       565.0  2.181467     37.85   \n",
       "\n",
       "   Longitude  MedHouseVal  \n",
       "0    -122.23        4.526  \n",
       "1    -122.22        3.585  \n",
       "2    -122.24        3.521  \n",
       "3    -122.25        3.413  \n",
       "4    -122.25        3.422  "
      ]
     },
     "execution_count": 2,
     "metadata": {},
     "output_type": "execute_result"
    }
   ],
   "source": [
    "# Load California Housing dataset\n",
    "california = fetch_california_housing(as_frame=True)\n",
    "df = california.frame\n",
    "\n",
    "# Show first rows\n",
    "df.head()\n"
   ]
  },
  {
   "cell_type": "code",
   "execution_count": 3,
   "id": "50600407",
   "metadata": {},
   "outputs": [
    {
     "name": "stdout",
     "output_type": "stream",
     "text": [
      "Dataset shape: (20640, 9)\n",
      "\n",
      "Summary statistics:\n",
      "              MedInc      HouseAge      AveRooms     AveBedrms    Population  \\\n",
      "count  20640.000000  20640.000000  20640.000000  20640.000000  20640.000000   \n",
      "mean       3.870671     28.639486      5.429000      1.096675   1425.476744   \n",
      "std        1.899822     12.585558      2.474173      0.473911   1132.462122   \n",
      "min        0.499900      1.000000      0.846154      0.333333      3.000000   \n",
      "25%        2.563400     18.000000      4.440716      1.006079    787.000000   \n",
      "50%        3.534800     29.000000      5.229129      1.048780   1166.000000   \n",
      "75%        4.743250     37.000000      6.052381      1.099526   1725.000000   \n",
      "max       15.000100     52.000000    141.909091     34.066667  35682.000000   \n",
      "\n",
      "           AveOccup      Latitude     Longitude   MedHouseVal  \n",
      "count  20640.000000  20640.000000  20640.000000  20640.000000  \n",
      "mean       3.070655     35.631861   -119.569704      2.068558  \n",
      "std       10.386050      2.135952      2.003532      1.153956  \n",
      "min        0.692308     32.540000   -124.350000      0.149990  \n",
      "25%        2.429741     33.930000   -121.800000      1.196000  \n",
      "50%        2.818116     34.260000   -118.490000      1.797000  \n",
      "75%        3.282261     37.710000   -118.010000      2.647250  \n",
      "max     1243.333333     41.950000   -114.310000      5.000010  \n",
      "\n",
      "Missing values:\n",
      " MedInc         0\n",
      "HouseAge       0\n",
      "AveRooms       0\n",
      "AveBedrms      0\n",
      "Population     0\n",
      "AveOccup       0\n",
      "Latitude       0\n",
      "Longitude      0\n",
      "MedHouseVal    0\n",
      "dtype: int64\n"
     ]
    },
    {
     "data": {
      "image/png": "[encoded data removed]",
      "text/plain": [
       "<Figure size 640x480 with 1 Axes>"
      ]
     },
     "metadata": {},
     "output_type": "display_data"
    }
   ],
   "source": [
    "print(\"Dataset shape:\", df.shape)\n",
    "print(\"\\nSummary statistics:\\n\", df.describe())\n",
    "print(\"\\nMissing values:\\n\", df.isnull().sum())\n",
    "\n",
    "# Target variable distribution\n",
    "plt.hist(df['MedHouseVal'], bins=50, color='orange', edgecolor='black')\n",
    "plt.xlabel(\"Median House Value\")\n",
    "plt.ylabel(\"Frequency\")\n",
    "plt.title(\"Distribution of Target Variable\")\n",
    "plt.show()\n"
   ]
  },
  {
   "cell_type": "code",
   "execution_count": 4,
   "id": "e4188bf5",
   "metadata": {},
   "outputs": [],
   "source": [
    "# Features and target\n",
    "X = df.drop(columns=['MedHouseVal'])\n",
    "y = df['MedHouseVal']\n",
    "\n",
    "# Train-test split\n",
    "X_train, X_test, y_train, y_test = train_test_split(\n",
    "    X, y, test_size=0.2, random_state=42\n",
    ")\n",
    "\n",
    "# Scaling (optional for trees, included for consistency)\n",
    "scaler = StandardScaler()\n",
    "X_train_scaled = scaler.fit_transform(X_train)\n",
    "X_test_scaled = scaler.transform(X_test)\n"
   ]
  },
  {
   "cell_type": "code",
   "execution_count": 5,
   "id": "e60b1520",
   "metadata": {},
   "outputs": [
    {
     "name": "stdout",
     "output_type": "stream",
     "text": [
      "AdaBoost RMSE: 0.694\n",
      "AdaBoost R²: 0.632\n"
     ]
    }
   ],
   "source": [
    "# Initialize AdaBoost with Decision Tree as base learner\n",
    "base_tree = DecisionTreeRegressor(max_depth=4, random_state=42)\n",
    "\n",
    "adaboost = AdaBoostRegressor(\n",
    "    estimator=base_tree,\n",
    "    n_estimators=100,\n",
    "    learning_rate=0.1,\n",
    "    random_state=42\n",
    ")\n",
    "\n",
    "# Train model\n",
    "adaboost.fit(X_train_scaled, y_train)\n",
    "\n",
    "# Predictions\n",
    "y_pred_ada = adaboost.predict(X_test_scaled)\n",
    "\n",
    "# Evaluation\n",
    "rmse_ada = np.sqrt(mean_squared_error(y_test, y_pred_ada))\n",
    "r2_ada = r2_score(y_test, y_pred_ada)\n",
    "\n",
    "print(f\"AdaBoost RMSE: {rmse_ada:.3f}\")\n",
    "print(f\"AdaBoost R²: {r2_ada:.3f}\")\n"
   ]
  },
  {
   "cell_type": "code",
   "execution_count": 6,
   "id": "a0edb43c",
   "metadata": {},
   "outputs": [
    {
     "name": "stdout",
     "output_type": "stream",
     "text": [
      "Decision Tree -> RMSE: 0.706, R²: 0.620\n",
      "Random Forest -> RMSE: 0.506, R²: 0.805\n",
      "AdaBoost      -> RMSE: 0.694, R²: 0.632\n"
     ]
    }
   ],
   "source": [
    "# Decision Tree\n",
    "dt = DecisionTreeRegressor(random_state=42)\n",
    "dt.fit(X_train_scaled, y_train)\n",
    "y_pred_dt = dt.predict(X_test_scaled)\n",
    "rmse_dt = np.sqrt(mean_squared_error(y_test, y_pred_dt))\n",
    "r2_dt = r2_score(y_test, y_pred_dt)\n",
    "\n",
    "# Random Forest\n",
    "rf = RandomForestRegressor(n_estimators=100, random_state=42, n_jobs=-1)\n",
    "rf.fit(X_train_scaled, y_train)\n",
    "y_pred_rf = rf.predict(X_test_scaled)\n",
    "rmse_rf = np.sqrt(mean_squared_error(y_test, y_pred_rf))\n",
    "r2_rf = r2_score(y_test, y_pred_rf)\n",
    "\n",
    "print(f\"Decision Tree -> RMSE: {rmse_dt:.3f}, R²: {r2_dt:.3f}\")\n",
    "print(f\"Random Forest -> RMSE: {rmse_rf:.3f}, R²: {r2_rf:.3f}\")\n",
    "print(f\"AdaBoost      -> RMSE: {rmse_ada:.3f}, R²: {r2_ada:.3f}\")\n"
   ]
  },
  {
   "cell_type": "code",
   "execution_count": 7,
   "id": "613e8edb",
   "metadata": {},
   "outputs": [
    {
     "data": {
      "image/png": "[encoded data removed]",
      "text/plain": [
       "<Figure size 800x600 with 1 Axes>"
      ]
     },
     "metadata": {},
     "output_type": "display_data"
    }
   ],
   "source": [
    "# Feature importance from AdaBoost\n",
    "importances = adaboost.feature_importances_\n",
    "indices = np.argsort(importances)[::-1]\n",
    "features = X.columns\n",
    "\n",
    "plt.figure(figsize=(8,6))\n",
    "plt.title(\"AdaBoost Feature Importances\")\n",
    "plt.bar(range(X.shape[1]), importances[indices], color='green', align='center')\n",
    "plt.xticks(range(X.shape[1]), features[indices], rotation=90)\n",
    "plt.tight_layout()\n",
    "plt.show()\n"
   ]
  },
  {
   "cell_type": "code",
   "execution_count": 8,
   "id": "14d4de7d",
   "metadata": {},
   "outputs": [
    {
     "name": "stdout",
     "output_type": "stream",
     "text": [
      "Best Parameters: {'estimator__max_depth': 6, 'learning_rate': 0.05, 'n_estimators': 200}\n",
      "Best CV R²: 0.7262764290911085\n"
     ]
    }
   ],
   "source": [
    "# Parameter grid\n",
    "param_grid = {\n",
    "    'n_estimators': [50, 100, 200],\n",
    "    'learning_rate': [0.05, 0.1, 0.2],\n",
    "    'estimator__max_depth': [2, 4, 6]\n",
    "}\n",
    "\n",
    "# Grid Search\n",
    "grid_search = GridSearchCV(\n",
    "    AdaBoostRegressor(estimator=DecisionTreeRegressor(random_state=42), random_state=42),\n",
    "    param_grid,\n",
    "    scoring='r2',\n",
    "    cv=3,\n",
    "    n_jobs=-1\n",
    ")\n",
    "grid_search.fit(X_train_scaled, y_train)\n",
    "\n",
    "print(\"Best Parameters:\", grid_search.best_params_)\n",
    "print(\"Best CV R²:\", grid_search.best_score_)\n"
   ]
  },
  {
   "cell_type": "markdown",
   "id": "3fc52dd0",
   "metadata": {},
   "source": [
    "## Conclusion\n",
    "\n",
    "- AdaBoost Regression can improve accuracy over a single decision tree by focusing on difficult-to-predict samples.\n",
    "- Compared to Random Forest, performance varies depending on dataset characteristics.\n",
    "- Feature importance can still be interpreted, but boosting tends to distribute importance differently than bagging.\n",
    "\n",
    "**Advantages:**\n",
    "- Can significantly reduce bias.\n",
    "- Works well with weak base learners.\n",
    "- Flexible — supports different base estimators.\n",
    "\n",
    "**Limitations:**\n",
    "- Sensitive to outliers.\n",
    "- Can overfit if base learners are too complex.\n",
    "- Slower to train than a single tree.\n",
    "\n",
    "**Next Steps:**\n",
    "- Try different base estimators.\n",
    "- Compare AdaBoost with Gradient Boosting, XGBoost, and LightGBM.\n"
   ]
  },
  {
   "cell_type": "markdown",
   "id": "fdeb4789",
   "metadata": {},
   "source": []
  }
 ],
 "metadata": {
  "kernelspec": {
   "display_name": "Python 3",
   "language": "python",
   "name": "python3"
  },
  "language_info": {
   "codemirror_mode": {
    "name": "ipython",
    "version": 3
   },
   "file_extension": ".py",
   "mimetype": "text/x-python",
   "name": "python",
   "nbconvert_exporter": "python",
   "pygments_lexer": "ipython3",
   "version": "3.12.9"
  }
 },
 "nbformat": 4,
 "nbformat_minor": 5
}
