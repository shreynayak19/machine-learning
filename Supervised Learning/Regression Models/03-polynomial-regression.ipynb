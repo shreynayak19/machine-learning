{
 "cells": [
  {
   "cell_type": "markdown",
   "id": "6f0c01ce",
   "metadata": {},
   "source": [
    "# Polynomial Regression\n",
    "\n",
    "This notebook covers:\n",
    "\n",
    "- In-depth theory of Polynomial Regression\n",
    "- Implementation using Scikit-learn\n",
    "- Visualization of model performance\n",
    "- Comparison to Linear Regression"
   ]
  },
  {
   "cell_type": "markdown",
   "id": "fedc373d",
   "metadata": {},
   "source": [
    "## What is Polynomial Regression?\n",
    "\n",
    "**Polynomial Regression** is a form of regression analysis where the relationship between the independent variable `x` and the dependent variable `y` is modeled as an **nth-degree polynomial**.\n",
    "\n",
    "It's used when data shows **nonlinear patterns**.\n",
    "\n",
    "### Polynomial Equation\n",
    "\n",
    "A polynomial regression model looks like:\n",
    "\n",
    "$$y = β₀ + β₁x + β₂x² + β₃x³ + ... + βₙxⁿ + ε$$\n",
    "\n",
    "Where:\n",
    "- `x` is the independent variable\n",
    "- `β₀, β₁, ..., βₙ` are the model coefficients\n",
    "- `ε` is the error term\n",
    "\n",
    "> Note: Despite being nonlinear in appearance, **Polynomial Regression is still linear** in terms of the **parameters**. This makes it a type of **linear model**.\n",
    "\n",
    "### Implementation in Scikit-learn\n",
    "\n",
    "Scikit-learn uses `PolynomialFeatures` to generate polynomial and interaction features.\n",
    "\n",
    "Workflow:\n",
    "1. Generate polynomial features using `PolynomialFeatures`\n",
    "2. Fit a linear regression model to those features\n",
    "\n"
   ]
  },
  {
   "cell_type": "code",
   "execution_count": 1,
   "id": "4249d23c",
   "metadata": {},
   "outputs": [],
   "source": [
    "# Import Libraries\n",
    "\n",
    "import numpy as np\n",
    "import pandas as pd\n",
    "import matplotlib.pyplot as plt\n",
    "\n",
    "from sklearn.datasets import load_diabetes\n",
    "from sklearn.linear_model import LinearRegression\n",
    "from sklearn.preprocessing import PolynomialFeatures\n",
    "from sklearn.metrics import mean_squared_error, r2_score\n",
    "from sklearn.model_selection import train_test_split\n"
   ]
  },
  {
   "cell_type": "code",
   "execution_count": 2,
   "id": "0229b320",
   "metadata": {},
   "outputs": [
    {
     "data": {
      "text/html": [
       "<div>\n",
       "<style scoped>\n",
       "    .dataframe tbody tr th:only-of-type {\n",
       "        vertical-align: middle;\n",
       "    }\n",
       "\n",
       "    .dataframe tbody tr th {\n",
       "        vertical-align: top;\n",
       "    }\n",
       "\n",
       "    .dataframe thead th {\n",
       "        text-align: right;\n",
       "    }\n",
       "</style>\n",
       "<table border=\"1\" class=\"dataframe\">\n",
       "  <thead>\n",
       "    <tr style=\"text-align: right;\">\n",
       "      <th></th>\n",
       "      <th>age</th>\n",
       "      <th>sex</th>\n",
       "      <th>bmi</th>\n",
       "      <th>bp</th>\n",
       "      <th>s1</th>\n",
       "      <th>s2</th>\n",
       "      <th>s3</th>\n",
       "      <th>s4</th>\n",
       "      <th>s5</th>\n",
       "      <th>s6</th>\n",
       "      <th>target</th>\n",
       "    </tr>\n",
       "  </thead>\n",
       "  <tbody>\n",
       "    <tr>\n",
       "      <th>0</th>\n",
       "      <td>0.038076</td>\n",
       "      <td>0.050680</td>\n",
       "      <td>0.061696</td>\n",
       "      <td>0.021872</td>\n",
       "      <td>-0.044223</td>\n",
       "      <td>-0.034821</td>\n",
       "      <td>-0.043401</td>\n",
       "      <td>-0.002592</td>\n",
       "      <td>0.019907</td>\n",
       "      <td>-0.017646</td>\n",
       "      <td>151.0</td>\n",
       "    </tr>\n",
       "    <tr>\n",
       "      <th>1</th>\n",
       "      <td>-0.001882</td>\n",
       "      <td>-0.044642</td>\n",
       "      <td>-0.051474</td>\n",
       "      <td>-0.026328</td>\n",
       "      <td>-0.008449</td>\n",
       "      <td>-0.019163</td>\n",
       "      <td>0.074412</td>\n",
       "      <td>-0.039493</td>\n",
       "      <td>-0.068332</td>\n",
       "      <td>-0.092204</td>\n",
       "      <td>75.0</td>\n",
       "    </tr>\n",
       "    <tr>\n",
       "      <th>2</th>\n",
       "      <td>0.085299</td>\n",
       "      <td>0.050680</td>\n",
       "      <td>0.044451</td>\n",
       "      <td>-0.005670</td>\n",
       "      <td>-0.045599</td>\n",
       "      <td>-0.034194</td>\n",
       "      <td>-0.032356</td>\n",
       "      <td>-0.002592</td>\n",
       "      <td>0.002861</td>\n",
       "      <td>-0.025930</td>\n",
       "      <td>141.0</td>\n",
       "    </tr>\n",
       "    <tr>\n",
       "      <th>3</th>\n",
       "      <td>-0.089063</td>\n",
       "      <td>-0.044642</td>\n",
       "      <td>-0.011595</td>\n",
       "      <td>-0.036656</td>\n",
       "      <td>0.012191</td>\n",
       "      <td>0.024991</td>\n",
       "      <td>-0.036038</td>\n",
       "      <td>0.034309</td>\n",
       "      <td>0.022688</td>\n",
       "      <td>-0.009362</td>\n",
       "      <td>206.0</td>\n",
       "    </tr>\n",
       "    <tr>\n",
       "      <th>4</th>\n",
       "      <td>0.005383</td>\n",
       "      <td>-0.044642</td>\n",
       "      <td>-0.036385</td>\n",
       "      <td>0.021872</td>\n",
       "      <td>0.003935</td>\n",
       "      <td>0.015596</td>\n",
       "      <td>0.008142</td>\n",
       "      <td>-0.002592</td>\n",
       "      <td>-0.031988</td>\n",
       "      <td>-0.046641</td>\n",
       "      <td>135.0</td>\n",
       "    </tr>\n",
       "  </tbody>\n",
       "</table>\n",
       "</div>"
      ],
      "text/plain": [
       "        age       sex       bmi        bp        s1        s2        s3  \\\n",
       "0  0.038076  0.050680  0.061696  0.021872 -0.044223 -0.034821 -0.043401   \n",
       "1 -0.001882 -0.044642 -0.051474 -0.026328 -0.008449 -0.019163  0.074412   \n",
       "2  0.085299  0.050680  0.044451 -0.005670 -0.045599 -0.034194 -0.032356   \n",
       "3 -0.089063 -0.044642 -0.011595 -0.036656  0.012191  0.024991 -0.036038   \n",
       "4  0.005383 -0.044642 -0.036385  0.021872  0.003935  0.015596  0.008142   \n",
       "\n",
       "         s4        s5        s6  target  \n",
       "0 -0.002592  0.019907 -0.017646   151.0  \n",
       "1 -0.039493 -0.068332 -0.092204    75.0  \n",
       "2 -0.002592  0.002861 -0.025930   141.0  \n",
       "3  0.034309  0.022688 -0.009362   206.0  \n",
       "4 -0.002592 -0.031988 -0.046641   135.0  "
      ]
     },
     "execution_count": 2,
     "metadata": {},
     "output_type": "execute_result"
    }
   ],
   "source": [
    "# Load the diabetes dataset\n",
    "diabetes = load_diabetes()\n",
    "\n",
    "# Create DataFrame for easier use\n",
    "df = pd.DataFrame(data=diabetes.data, columns=diabetes.feature_names)\n",
    "df['target'] = diabetes.target\n",
    "\n",
    "# Show first few rows\n",
    "df.head()\n"
   ]
  },
  {
   "cell_type": "markdown",
   "id": "018b1dcd",
   "metadata": {},
   "source": [
    "### Using BMI as Our Feature\n",
    "\n",
    "To make visualization easier and highlight polynomial behavior, we'll use a **single feature**: `bmi`.\n",
    "\n",
    "We'll split the data into training and test sets and apply both Linear and Polynomial Regression.\n"
   ]
  },
  {
   "cell_type": "code",
   "execution_count": null,
   "id": "543ca457",
   "metadata": {},
   "outputs": [],
   "source": [
    "# Select one feature: Body Mass Index (bmi)\n",
    "X = df[['bmi']]\n",
    "y = df['target']\n",
    "\n",
    "# Split the data\n",
    "X_train, X_test, y_train, y_test = train_test_split(X, y, test_size=0.2, random_state=42)\n"
   ]
  },
  {
   "cell_type": "markdown",
   "id": "2fafb7b9",
   "metadata": {},
   "source": [
    "### Linear Regression for Comparison"
   ]
  },
  {
   "cell_type": "code",
   "execution_count": 5,
   "id": "ebc3be70",
   "metadata": {},
   "outputs": [
    {
     "name": "stdout",
     "output_type": "stream",
     "text": [
      "Linear Regression R²: 0.23335039815872138\n"
     ]
    }
   ],
   "source": [
    "# Train a linear regression model for comparison\n",
    "linear_model = LinearRegression()\n",
    "linear_model.fit(X_train, y_train)\n",
    "\n",
    "# Predict\n",
    "y_pred_linear = linear_model.predict(X_test)\n",
    "\n",
    "# Evaluate\n",
    "print(\"Linear Regression R²:\", r2_score(y_test, y_pred_linear))"
   ]
  },
  {
   "cell_type": "markdown",
   "id": "58badea2",
   "metadata": {},
   "source": [
    "### Polynomial Features (Degree 2 and 3)"
   ]
  },
  {
   "cell_type": "code",
   "execution_count": 6,
   "id": "e8ca2dff",
   "metadata": {},
   "outputs": [
    {
     "name": "stdout",
     "output_type": "stream",
     "text": [
      "Polynomial Regression (Degree 3) R²: 0.23285636640090268\n"
     ]
    }
   ],
   "source": [
    "# Degree of polynomial\n",
    "degree = 3\n",
    "\n",
    "# Generate polynomial features\n",
    "poly = PolynomialFeatures(degree=degree)\n",
    "X_poly_train = poly.fit_transform(X_train)\n",
    "X_poly_test = poly.transform(X_test)\n",
    "\n",
    "# Fit model to polynomial features\n",
    "poly_model = LinearRegression()\n",
    "poly_model.fit(X_poly_train, y_train)\n",
    "\n",
    "# Predict\n",
    "y_pred_poly = poly_model.predict(X_poly_test)\n",
    "\n",
    "# Evaluate\n",
    "print(f\"Polynomial Regression (Degree {degree}) R²:\", r2_score(y_test, y_pred_poly))\n"
   ]
  },
  {
   "cell_type": "markdown",
   "id": "2ba416f2",
   "metadata": {},
   "source": [
    "### Visualize Both Models"
   ]
  },
  {
   "cell_type": "code",
   "execution_count": 7,
   "id": "993adc5e",
   "metadata": {},
   "outputs": [
    {
     "name": "stderr",
     "output_type": "stream",
     "text": [
      "/Users/A200027845/AI/machine-learning/venv/lib/python3.12/site-packages/sklearn/utils/validation.py:2739: UserWarning: X does not have valid feature names, but PolynomialFeatures was fitted with feature names\n",
      "  warnings.warn(\n",
      "/Users/A200027845/AI/machine-learning/venv/lib/python3.12/site-packages/sklearn/utils/validation.py:2739: UserWarning: X does not have valid feature names, but LinearRegression was fitted with feature names\n",
      "  warnings.warn(\n"
     ]
    },
    {
     "data": {
      "image/png": "[encoded data removed]",
      "text/plain": [
       "<Figure size 640x480 with 1 Axes>"
      ]
     },
     "metadata": {},
     "output_type": "display_data"
    }
   ],
   "source": [
    "# Sort for plotting\n",
    "X_range = np.linspace(X.min(), X.max(), 100).reshape(-1, 1)\n",
    "X_range_poly = poly.transform(X_range)\n",
    "\n",
    "# Predictions for plot\n",
    "y_range_pred_linear = linear_model.predict(X_range)\n",
    "y_range_pred_poly = poly_model.predict(X_range_poly)\n",
    "\n",
    "# Plot\n",
    "plt.scatter(X_test, y_test, color='gray', label='Actual', alpha=0.6)\n",
    "plt.plot(X_range, y_range_pred_linear, label='Linear Regression', color='blue')\n",
    "plt.plot(X_range, y_range_pred_poly, label=f'Polynomial Regression (Degree {degree})', color='red')\n",
    "plt.xlabel('BMI')\n",
    "plt.ylabel('Disease Progression')\n",
    "plt.title('Linear vs Polynomial Regression')\n",
    "plt.legend()\n",
    "plt.show()\n"
   ]
  },
  {
   "cell_type": "markdown",
   "id": "b2a46299",
   "metadata": {},
   "source": [
    "### Evaluation Metrics"
   ]
  },
  {
   "cell_type": "code",
   "execution_count": 8,
   "id": "21f55508",
   "metadata": {},
   "outputs": [
    {
     "name": "stdout",
     "output_type": "stream",
     "text": [
      "Linear Regression MSE: 4061.8259284949268\n",
      "Polynomial Regression (Degree 3) MSE: 4064.4433837164365\n"
     ]
    }
   ],
   "source": [
    "# MSE comparison\n",
    "mse_linear = mean_squared_error(y_test, y_pred_linear)\n",
    "mse_poly = mean_squared_error(y_test, y_pred_poly)\n",
    "\n",
    "print(\"Linear Regression MSE:\", mse_linear)\n",
    "print(f\"Polynomial Regression (Degree {degree}) MSE:\", mse_poly)\n"
   ]
  },
  {
   "cell_type": "markdown",
   "id": "5cc4db7a",
   "metadata": {},
   "source": [
    "# Polynomial Regression with Multiple Features\n",
    "\n",
    "We extend Polynomial Regression to use **multiple features** from the dataset. This allows us to capture **nonlinear interactions** between variables.\n",
    "\n",
    "We'll:\n",
    "\n",
    "- Use all other features\n",
    "- Fit a Polynomial Regression model (degree 2 or 3)\n",
    "- Compare it with standard Linear Regression\n",
    "- Evaluate performance using R² and MSE\n"
   ]
  },
  {
   "cell_type": "code",
   "execution_count": 11,
   "id": "a50abdf2",
   "metadata": {},
   "outputs": [],
   "source": [
    "# Select multiple features\n",
    "X = df.drop(columns='target')\n",
    "y = df['target']\n",
    "\n",
    "# Split the data\n",
    "X_train, X_test, y_train, y_test = train_test_split(X, y, test_size=0.2, random_state=42)\n"
   ]
  },
  {
   "cell_type": "code",
   "execution_count": 12,
   "id": "044f53ee",
   "metadata": {},
   "outputs": [
    {
     "name": "stdout",
     "output_type": "stream",
     "text": [
      "Linear Regression R²: 0.4526027629719195\n",
      "Linear Regression MSE: 2900.1936284934814\n"
     ]
    }
   ],
   "source": [
    "# Train linear regression as baseline\n",
    "linear_model = LinearRegression()\n",
    "linear_model.fit(X_train, y_train)\n",
    "\n",
    "# Predict and evaluate\n",
    "y_pred_linear = linear_model.predict(X_test)\n",
    "print(\"Linear Regression R²:\", r2_score(y_test, y_pred_linear))\n",
    "print(\"Linear Regression MSE:\", mean_squared_error(y_test, y_pred_linear))\n"
   ]
  },
  {
   "cell_type": "code",
   "execution_count": 19,
   "id": "8e8fe770",
   "metadata": {},
   "outputs": [
    {
     "name": "stdout",
     "output_type": "stream",
     "text": [
      "Intercept: 151.34560453985995\n",
      "\n",
      "Coefficients:\n"
     ]
    },
    {
     "data": {
      "text/html": [
       "<div>\n",
       "<style scoped>\n",
       "    .dataframe tbody tr th:only-of-type {\n",
       "        vertical-align: middle;\n",
       "    }\n",
       "\n",
       "    .dataframe tbody tr th {\n",
       "        vertical-align: top;\n",
       "    }\n",
       "\n",
       "    .dataframe thead th {\n",
       "        text-align: right;\n",
       "    }\n",
       "</style>\n",
       "<table border=\"1\" class=\"dataframe\">\n",
       "  <thead>\n",
       "    <tr style=\"text-align: right;\">\n",
       "      <th></th>\n",
       "      <th>Feature</th>\n",
       "      <th>Coefficient</th>\n",
       "    </tr>\n",
       "  </thead>\n",
       "  <tbody>\n",
       "    <tr>\n",
       "      <th>0</th>\n",
       "      <td>age</td>\n",
       "      <td>37.904021</td>\n",
       "    </tr>\n",
       "    <tr>\n",
       "      <th>1</th>\n",
       "      <td>sex</td>\n",
       "      <td>-241.964362</td>\n",
       "    </tr>\n",
       "    <tr>\n",
       "      <th>2</th>\n",
       "      <td>bmi</td>\n",
       "      <td>542.428759</td>\n",
       "    </tr>\n",
       "    <tr>\n",
       "      <th>3</th>\n",
       "      <td>bp</td>\n",
       "      <td>347.703844</td>\n",
       "    </tr>\n",
       "    <tr>\n",
       "      <th>4</th>\n",
       "      <td>s1</td>\n",
       "      <td>-931.488846</td>\n",
       "    </tr>\n",
       "    <tr>\n",
       "      <th>5</th>\n",
       "      <td>s2</td>\n",
       "      <td>518.062277</td>\n",
       "    </tr>\n",
       "    <tr>\n",
       "      <th>6</th>\n",
       "      <td>s3</td>\n",
       "      <td>163.419983</td>\n",
       "    </tr>\n",
       "    <tr>\n",
       "      <th>7</th>\n",
       "      <td>s4</td>\n",
       "      <td>275.317902</td>\n",
       "    </tr>\n",
       "    <tr>\n",
       "      <th>8</th>\n",
       "      <td>s5</td>\n",
       "      <td>736.198859</td>\n",
       "    </tr>\n",
       "    <tr>\n",
       "      <th>9</th>\n",
       "      <td>s6</td>\n",
       "      <td>48.670657</td>\n",
       "    </tr>\n",
       "  </tbody>\n",
       "</table>\n",
       "</div>"
      ],
      "text/plain": [
       "  Feature  Coefficient\n",
       "0     age    37.904021\n",
       "1     sex  -241.964362\n",
       "2     bmi   542.428759\n",
       "3      bp   347.703844\n",
       "4      s1  -931.488846\n",
       "5      s2   518.062277\n",
       "6      s3   163.419983\n",
       "7      s4   275.317902\n",
       "8      s5   736.198859\n",
       "9      s6    48.670657"
      ]
     },
     "metadata": {},
     "output_type": "display_data"
    }
   ],
   "source": [
    "# Get feature names and coefficients\n",
    "coef_df = pd.DataFrame({\n",
    "    'Feature': X_train.columns,\n",
    "    'Coefficient': linear_model.coef_\n",
    "})\n",
    "\n",
    "# Display\n",
    "print(\"Intercept:\", linear_model.intercept_)\n",
    "print(\"\\nCoefficients:\")\n",
    "display(coef_df)"
   ]
  },
  {
   "cell_type": "code",
   "execution_count": 22,
   "id": "ca729d37",
   "metadata": {},
   "outputs": [
    {
     "name": "stdout",
     "output_type": "stream",
     "text": [
      "Polynomial Regression (Degree 2) R²: 0.415639933640802\n",
      "Polynomial Regression (Degree 2) MSE: 3096.028307344262\n"
     ]
    }
   ],
   "source": [
    "# Set degree\n",
    "degree = 2\n",
    "\n",
    "# Generate polynomial features\n",
    "poly = PolynomialFeatures(degree=degree, include_bias=False)\n",
    "X_poly_train = poly.fit_transform(X_train)\n",
    "X_poly_test = poly.transform(X_test)\n",
    "\n",
    "# Train model\n",
    "poly_model = LinearRegression()\n",
    "poly_model.fit(X_poly_train, y_train)\n",
    "\n",
    "# Predict and evaluate\n",
    "y_pred_poly = poly_model.predict(X_poly_test)\n",
    "\n",
    "print(f\"Polynomial Regression (Degree {degree}) R²:\", r2_score(y_test, y_pred_poly))\n",
    "print(f\"Polynomial Regression (Degree {degree}) MSE:\", mean_squared_error(y_test, y_pred_poly))\n"
   ]
  },
  {
   "cell_type": "code",
   "execution_count": 24,
   "id": "9e5b972b",
   "metadata": {},
   "outputs": [
    {
     "data": {
      "text/html": [
       "<div>\n",
       "<style scoped>\n",
       "    .dataframe tbody tr th:only-of-type {\n",
       "        vertical-align: middle;\n",
       "    }\n",
       "\n",
       "    .dataframe tbody tr th {\n",
       "        vertical-align: top;\n",
       "    }\n",
       "\n",
       "    .dataframe thead th {\n",
       "        text-align: right;\n",
       "    }\n",
       "</style>\n",
       "<table border=\"1\" class=\"dataframe\">\n",
       "  <thead>\n",
       "    <tr style=\"text-align: right;\">\n",
       "      <th></th>\n",
       "      <th>Feature</th>\n",
       "      <th>Coefficient</th>\n",
       "    </tr>\n",
       "  </thead>\n",
       "  <tbody>\n",
       "    <tr>\n",
       "      <th>45</th>\n",
       "      <td>s1 s2</td>\n",
       "      <td>-128756.526561</td>\n",
       "    </tr>\n",
       "    <tr>\n",
       "      <th>44</th>\n",
       "      <td>s1^2</td>\n",
       "      <td>93389.151756</td>\n",
       "    </tr>\n",
       "    <tr>\n",
       "      <th>46</th>\n",
       "      <td>s1 s3</td>\n",
       "      <td>-61554.050838</td>\n",
       "    </tr>\n",
       "    <tr>\n",
       "      <th>50</th>\n",
       "      <td>s2^2</td>\n",
       "      <td>45682.471825</td>\n",
       "    </tr>\n",
       "    <tr>\n",
       "      <th>48</th>\n",
       "      <td>s1 s5</td>\n",
       "      <td>-40293.436034</td>\n",
       "    </tr>\n",
       "    <tr>\n",
       "      <th>51</th>\n",
       "      <td>s2 s3</td>\n",
       "      <td>34453.904406</td>\n",
       "    </tr>\n",
       "    <tr>\n",
       "      <th>62</th>\n",
       "      <td>s5^2</td>\n",
       "      <td>32935.160987</td>\n",
       "    </tr>\n",
       "    <tr>\n",
       "      <th>47</th>\n",
       "      <td>s1 s4</td>\n",
       "      <td>-25238.391169</td>\n",
       "    </tr>\n",
       "    <tr>\n",
       "      <th>53</th>\n",
       "      <td>s2 s5</td>\n",
       "      <td>23659.351007</td>\n",
       "    </tr>\n",
       "    <tr>\n",
       "      <th>38</th>\n",
       "      <td>bp s1</td>\n",
       "      <td>19931.747701</td>\n",
       "    </tr>\n",
       "  </tbody>\n",
       "</table>\n",
       "</div>"
      ],
      "text/plain": [
       "   Feature    Coefficient\n",
       "45   s1 s2 -128756.526561\n",
       "44    s1^2   93389.151756\n",
       "46   s1 s3  -61554.050838\n",
       "50    s2^2   45682.471825\n",
       "48   s1 s5  -40293.436034\n",
       "51   s2 s3   34453.904406\n",
       "62    s5^2   32935.160987\n",
       "47   s1 s4  -25238.391169\n",
       "53   s2 s5   23659.351007\n",
       "38   bp s1   19931.747701"
      ]
     },
     "execution_count": 24,
     "metadata": {},
     "output_type": "execute_result"
    }
   ],
   "source": [
    "# Get polynomial feature names\n",
    "poly_feature_names = poly.get_feature_names_out(X_train.columns)\n",
    "\n",
    "# Create DataFrame of coefficients\n",
    "poly_coef_df = pd.DataFrame({\n",
    "    'Feature': poly_feature_names,\n",
    "    'Coefficient': poly_model.coef_\n",
    "})\n",
    "\n",
    "# Display top influential terms\n",
    "poly_coef_df['Abs_Coefficient'] = poly_coef_df['Coefficient'].abs()\n",
    "poly_coef_df = poly_coef_df.sort_values(by='Abs_Coefficient', ascending=False)\n",
    "\n",
    "# Show\n",
    "poly_coef_df[['Feature', 'Coefficient']].head(10)"
   ]
  },
  {
   "cell_type": "markdown",
   "id": "56433deb",
   "metadata": {},
   "source": [
    "### From Linear to Polynomial: Feature Transformation\n",
    "\n",
    "### Linear Features (Degree = 1)\n",
    "\n",
    "Suppose you have input features:\n",
    "\n",
    "    X = [x1, x2]\n",
    "\n",
    "A linear regression model learns a function:\n",
    "\n",
    "$$y=β_0+β_1x_1+β_2x_2$$\n",
    "\n",
    "Only first-degree terms (no squares or interactions).\n",
    "\n",
    "Polynomial Features (Degree = 2)\n",
    "\n",
    "When you apply:\n",
    "\n",
    "poly = PolynomialFeatures(degree=2)\n",
    "X_poly = poly.fit_transform(X)\n",
    "\n",
    "you get:\n",
    "\n",
    "$$y=β_0​+β_1​x_1​+β_2​x_2​+β_3​x_1^2​+β_4​x_1​x_2​+β_5​x_2^2$$\n",
    "\n",
    "So the new features become:\n",
    "\n",
    "    X =[1, x1, x2, x1^2, x1·x2, x2²]\n",
    "\n",
    "**Now model nonlinear relationships using only a linear model on transformed features.**\n",
    "\n",
    "General Formula\n",
    "\n",
    "For n input features and polynomial degree=d, the number of output features is:\n",
    "\n",
    "New Features = $$\\binom{n+d}{d}$$\n",
    "\n",
    "If n = 4 and d = 2:\n",
    "\n",
    "$\\binom{4+2}{2} = \\binom{6}{2}$ = 15\n",
    "\n",
    "This includes:\n",
    "\n",
    "    All combinations with repetition\n",
    "\n",
    "    All powers up to degree\n",
    "\n"
   ]
  },
  {
   "cell_type": "markdown",
   "id": "1d69645b",
   "metadata": {},
   "source": [
    "### Conclusion\n",
    "\n",
    "- **Polynomial Regression** models nonlinear relationships by transforming features.\n",
    "- With `degree=3`, the model fits the data better than simple Linear Regression in this case.\n",
    "- However, higher-degree polynomials can lead to **overfitting**.\n",
    "\n",
    "### Trade-off: Bias vs Variance\n",
    "\n",
    "- Low-degree polynomial: high bias, underfits\n",
    "- High-degree polynomial: high variance, overfits\n",
    "\n",
    "Always use **cross-validation** and **visual inspection** to find the right balance.\n"
   ]
  },
  {
   "cell_type": "markdown",
   "id": "3286749d",
   "metadata": {},
   "source": []
  }
 ],
 "metadata": {
  "kernelspec": {
   "display_name": "Python 3",
   "language": "python",
   "name": "python3"
  },
  "language_info": {
   "codemirror_mode": {
    "name": "ipython",
    "version": 3
   },
   "file_extension": ".py",
   "mimetype": "text/x-python",
   "name": "python",
   "nbconvert_exporter": "python",
   "pygments_lexer": "ipython3",
   "version": "3.12.9"
  }
 },
 "nbformat": 4,
 "nbformat_minor": 5
}
